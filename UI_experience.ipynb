{
 "cells": [
  {
   "cell_type": "code",
   "execution_count": 2,
   "metadata": {},
   "outputs": [
    {
     "name": "stderr",
     "output_type": "stream",
     "text": [
      "2024-11-25 12:32:15.603 WARNING streamlit.runtime.scriptrunner_utils.script_run_context: Thread 'MainThread': missing ScriptRunContext! This warning can be ignored when running in bare mode.\n",
      "2024-11-25 12:32:15.695 \n",
      "  \u001b[33m\u001b[1mWarning:\u001b[0m to view this Streamlit app on a browser, run it with the following\n",
      "  command:\n",
      "\n",
      "    streamlit run C:\\Users\\stesi\\AppData\\Roaming\\Python\\Python312\\site-packages\\ipykernel_launcher.py [ARGUMENTS]\n",
      "2024-11-25 12:32:15.697 Thread 'MainThread': missing ScriptRunContext! This warning can be ignored when running in bare mode.\n",
      "2024-11-25 12:32:15.698 Thread 'MainThread': missing ScriptRunContext! This warning can be ignored when running in bare mode.\n",
      "2024-11-25 12:32:15.698 Thread 'MainThread': missing ScriptRunContext! This warning can be ignored when running in bare mode.\n",
      "2024-11-25 12:32:15.700 Thread 'MainThread': missing ScriptRunContext! This warning can be ignored when running in bare mode.\n",
      "2024-11-25 12:32:15.703 Thread 'MainThread': missing ScriptRunContext! This warning can be ignored when running in bare mode.\n",
      "2024-11-25 12:32:15.705 Thread 'MainThread': missing ScriptRunContext! This warning can be ignored when running in bare mode.\n"
     ]
    }
   ],
   "source": [
    "import streamlit as st\n",
    "import pandas as pd\n",
    "import xlsxwriter\n",
    "import io\n",
    "\n",
    "def convert_to_excel(df):\n",
    "    output = io.BytesIO()\n",
    "    writer = pd.ExcelWriter(output, engine=\"xlsxwriter\")\n",
    "    df.to_excel(writer, sheet_name=\"data\")\n",
    "    # see: https://xlsxwriter.readthedocs.io/working_with_pandas.html\n",
    "    writer.close()\n",
    "    return output.getvalue()\n",
    "\n",
    "def main():\n",
    "    st.title(\"Data Transformation\")\n",
    "    uploaded_file = st.file_uploader(\"Choose a file\",type={\"xlsx\"})\n",
    "    if uploaded_file is not None:\n",
    "        ###### transformation #####################################\n",
    "        df = pd.read_excel(uploaded_file)\n",
    "        st.dataframe(df)\n",
    "\n",
    "\n",
    "        if st.button('Start Processing', help=\"Process Dataframe\"):\n",
    "            st.header('Addes Column')\n",
    "            df['new_col'] = 1\n",
    "            st.dataframe(df)\n",
    "            st.balloons()\n",
    "            st.download_button(\n",
    "                                label=\"download as Excel-file\",\n",
    "                                data=convert_to_excel(df),\n",
    "                                file_name=\"data.xlsx\",\n",
    "                                mime=\"application/vnd.openxmlformats-officedocument.spreadsheetml.sheet\",\n",
    "                                key=\"excel_download\",\n",
    "                                )\n",
    "                \n",
    "if __name__ == \"__main__\":\n",
    "    main()"
   ]
  },
  {
   "cell_type": "code",
   "execution_count": null,
   "metadata": {},
   "outputs": [],
   "source": []
  }
 ],
 "metadata": {
  "kernelspec": {
   "display_name": "Python 3",
   "language": "python",
   "name": "python3"
  },
  "language_info": {
   "codemirror_mode": {
    "name": "ipython",
    "version": 3
   },
   "file_extension": ".py",
   "mimetype": "text/x-python",
   "name": "python",
   "nbconvert_exporter": "python",
   "pygments_lexer": "ipython3",
   "version": "3.12.1"
  }
 },
 "nbformat": 4,
 "nbformat_minor": 2
}
