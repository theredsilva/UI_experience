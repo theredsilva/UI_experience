{
 "cells": [
  {
   "cell_type": "code",
   "execution_count": 6,
   "metadata": {},
   "outputs": [
    {
     "name": "stderr",
     "output_type": "stream",
     "text": [
      "2024-11-25 10:52:50.023 WARNING streamlit.runtime.scriptrunner_utils.script_run_context: Thread 'MainThread': missing ScriptRunContext! This warning can be ignored when running in bare mode.\n",
      "2024-11-25 10:52:50.035 WARNING streamlit.runtime.scriptrunner_utils.script_run_context: Thread 'MainThread': missing ScriptRunContext! This warning can be ignored when running in bare mode.\n",
      "2024-11-25 10:52:50.043 WARNING streamlit.runtime.scriptrunner_utils.script_run_context: Thread 'MainThread': missing ScriptRunContext! This warning can be ignored when running in bare mode.\n",
      "2024-11-25 10:52:50.044 WARNING streamlit.runtime.scriptrunner_utils.script_run_context: Thread 'MainThread': missing ScriptRunContext! This warning can be ignored when running in bare mode.\n",
      "2024-11-25 10:52:50.045 WARNING streamlit.runtime.scriptrunner_utils.script_run_context: Thread 'MainThread': missing ScriptRunContext! This warning can be ignored when running in bare mode.\n"
     ]
    },
    {
     "name": "stderr",
     "output_type": "stream",
     "text": [
      "2024-11-25 10:52:50.258 \n",
      "  \u001b[33m\u001b[1mWarning:\u001b[0m to view this Streamlit app on a browser, run it with the following\n",
      "  command:\n",
      "\n",
      "    streamlit run C:\\Users\\stesi\\AppData\\Roaming\\Python\\Python312\\site-packages\\ipykernel_launcher.py [ARGUMENTS]\n",
      "2024-11-25 10:52:50.259 Thread 'MainThread': missing ScriptRunContext! This warning can be ignored when running in bare mode.\n",
      "2024-11-25 10:52:50.260 Thread 'MainThread': missing ScriptRunContext! This warning can be ignored when running in bare mode.\n",
      "2024-11-25 10:52:50.261 Thread 'MainThread': missing ScriptRunContext! This warning can be ignored when running in bare mode.\n",
      "2024-11-25 10:52:50.262 Thread 'MainThread': missing ScriptRunContext! This warning can be ignored when running in bare mode.\n",
      "2024-11-25 10:52:50.264 Thread 'MainThread': missing ScriptRunContext! This warning can be ignored when running in bare mode.\n",
      "2024-11-25 10:52:50.266 Thread 'MainThread': missing ScriptRunContext! This warning can be ignored when running in bare mode.\n",
      "2024-11-25 10:52:50.267 Thread 'MainThread': missing ScriptRunContext! This warning can be ignored when running in bare mode.\n"
     ]
    }
   ],
   "source": [
    "import streamlit as st\n",
    "from PIL import Image\n",
    "from streamlit_option_menu import option_menu\n",
    "import importlib\n",
    "import os\n",
    "\n",
    "st.set_page_config(\n",
    "                    page_title=\"Template Project\",\n",
    "                    page_icon=Image.open(\"icon_site.png\"),\n",
    "                    layout=\"wide\",\n",
    "                    )\n",
    "\n",
    "def get_pages():\n",
    "    pages = []\n",
    "    icons = []\n",
    "    modules = []\n",
    "    \n",
    "    BLACKLIST_FILES = ['__init__', 'test']  # aggiungi qui i file da escludere    \n",
    "    # page_order = []\n",
    "    page_order = ['home', 'history', 'datavisualisation', 'map', 'contacts']\n",
    "\n",
    "    files = [f[:-3] for f in os.listdir('pag') if f.endswith('.py') and f[:-3] not in BLACKLIST_FILES]\n",
    "    files.sort(key=lambda x: page_order.index(x) if x in page_order else len(page_order))\n",
    "    \n",
    "    # Mapping icon \n",
    "    icon_mapping = {\n",
    "                    'home': 'bi-house',\n",
    "                    'history': 'bi-hourglass-split',\n",
    "                    'datavisualisation': 'bi-card-image',\n",
    "                    'map': 'bi-map',\n",
    "                    'contacts': 'bi-envelope'\n",
    "                    }\n",
    "    \n",
    "    for file in files:\n",
    "        page_name = file.capitalize()\n",
    "        pages.append(page_name)        \n",
    "        icons.append(icon_mapping.get(file, 'bi-file'))        \n",
    "        module = importlib.import_module(f'pag.{file}')\n",
    "        modules.append(module)\n",
    "    \n",
    "    return pages, icons, modules\n",
    "\n",
    "pages, icons, modules = get_pages()\n",
    "\n",
    "class MultiApp:\n",
    "    def __init__(self):\n",
    "        self.apps = []\n",
    "\n",
    "    def add_app(self, title, function):\n",
    "        self.apps.append({\n",
    "                        \"title\": title,\n",
    "                        \"function\": function\n",
    "                        })\n",
    "\n",
    "    def main():\n",
    "        with st.sidebar:\n",
    "            app = option_menu(\n",
    "                                menu_title=\"Menu\",\n",
    "                                options=pages,\n",
    "                                icons=icons,\n",
    "                                menu_icon=\"bi-list\",\n",
    "                                default_index=0,\n",
    "                                styles={\n",
    "                                        \"container\": {\"padding\": \"5!important\", \"background-color\": \"black\"},\n",
    "                                        \"icon\": {\"color\": \"white\", \"font-size\": \"23px\"},\n",
    "                                        \"nav-link\": {\"color\": \"white\", \"font-size\": \"20px\", \"text-align\": \"left\", \"margin\": \"0px\"},\n",
    "                                        \"nav-link-selected\": {\"color\": \"black\", \"background-color\": \"#9ac280\"}\n",
    "                                        }\n",
    "                                        )        \n",
    "        selected_index = pages.index(app)\n",
    "        modules[selected_index].main()\n",
    "\n",
    "if __name__ == \"__main__\":\n",
    "    MultiApp.main()\n"
   ]
  },
  {
   "cell_type": "code",
   "execution_count": null,
   "metadata": {},
   "outputs": [],
   "source": []
  }
 ],
 "metadata": {
  "kernelspec": {
   "display_name": "Python 3",
   "language": "python",
   "name": "python3"
  },
  "language_info": {
   "codemirror_mode": {
    "name": "ipython",
    "version": 3
   },
   "file_extension": ".py",
   "mimetype": "text/x-python",
   "name": "python",
   "nbconvert_exporter": "python",
   "pygments_lexer": "ipython3",
   "version": "3.12.1"
  }
 },
 "nbformat": 4,
 "nbformat_minor": 2
}
